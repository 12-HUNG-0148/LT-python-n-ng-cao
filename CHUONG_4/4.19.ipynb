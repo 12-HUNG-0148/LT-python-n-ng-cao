{
 "cells": [
  {
   "cell_type": "code",
   "execution_count": null,
   "metadata": {},
   "outputs": [
    {
     "name": "stdout",
     "output_type": "stream",
     "text": [
      "['banana', 'carrot', 'carrot', 'apple', 'banana', 'banana', 'apple', 'carrot', 'apple', 'carrot']\n",
      "[1.0, 2.0, 3.0, 4.0, 5.0, 6.0, 7.0, 8.0, 9.0, 10.0]\n"
     ]
    }
   ],
   "source": [
    "import pandas as pd\n",
    "import numpy as np\n",
    "fruits = pd.Series(np.random.choice(['apple','banana','carrot'],10))\n",
    "weights = pd.Series(np.linspace(1,10,10))\n",
    "print(fruits.tolist())\n",
    "print(weights.tolist())"
   ]
  },
  {
   "cell_type": "code",
   "execution_count": 10,
   "metadata": {},
   "outputs": [
    {
     "name": "stdout",
     "output_type": "stream",
     "text": [
      "Hoa quả\n",
      "apple     6.666667\n",
      "banana    4.000000\n",
      "carrot    5.750000\n",
      "Name: Khối lượng, dtype: float64 \n",
      "là khối lượng từng loại hoa quả\n"
     ]
    }
   ],
   "source": [
    "df_hoa_qua = pd.DataFrame({'Hoa quả': fruits,'Khối lượng':weights})\n",
    "khoi_luong_tb = df_hoa_qua.groupby('Hoa quả')['Khối lượng'].mean()\n",
    "print(khoi_luong_tb, \"\\nlà khối lượng từng loại hoa quả\")\n"
   ]
  }
 ],
 "metadata": {
  "kernelspec": {
   "display_name": "Python 3",
   "language": "python",
   "name": "python3"
  },
  "language_info": {
   "codemirror_mode": {
    "name": "ipython",
    "version": 3
   },
   "file_extension": ".py",
   "mimetype": "text/x-python",
   "name": "python",
   "nbconvert_exporter": "python",
   "pygments_lexer": "ipython3",
   "version": "3.13.0"
  }
 },
 "nbformat": 4,
 "nbformat_minor": 2
}
